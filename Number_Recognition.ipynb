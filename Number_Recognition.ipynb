{
  "nbformat": 4,
  "nbformat_minor": 0,
  "metadata": {
    "colab": {
      "provenance": [],
      "authorship_tag": "ABX9TyNz8FUC7zETrMHlOCv2zOqN",
      "include_colab_link": true
    },
    "kernelspec": {
      "name": "python3",
      "display_name": "Python 3"
    },
    "language_info": {
      "name": "python"
    }
  },
  "cells": [
    {
      "cell_type": "markdown",
      "metadata": {
        "id": "view-in-github",
        "colab_type": "text"
      },
      "source": [
        "<a href=\"https://colab.research.google.com/github/swetha-guggal/BharathInternship/blob/main/Number_Recognition.ipynb\" target=\"_parent\"><img src=\"https://colab.research.google.com/assets/colab-badge.svg\" alt=\"Open In Colab\"/></a>"
      ]
    },
    {
      "cell_type": "code",
      "execution_count": 2,
      "metadata": {
        "id": "S0dC7Z6dyFJQ"
      },
      "outputs": [],
      "source": [
        "#importing packages\n",
        "import keras\n",
        "from keras.datasets import mnist\n",
        "from keras.models import Sequential\n",
        "from keras.layers import Dense,Dropout,Flatten\n",
        "from keras.layers import Conv2D,MaxPooling2D\n",
        "from keras import backend as k"
      ]
    },
    {
      "cell_type": "code",
      "source": [
        "#splitting data into train and test\n",
        "(X_train,y_train),(X_test,y_test)=mnist.load_data()\n",
        "\n",
        "\n",
        "X_train=X_train.reshape(X_train.shape[0],28,28,1)\n",
        "\n",
        "X_test = X_test.reshape(X_test.shape[0], 28, 28, 1)\n",
        "\n",
        "input_shape=(28,28,1)\n",
        "\n",
        "\n"
      ],
      "metadata": {
        "id": "e7zLfbZRzL0r"
      },
      "execution_count": 4,
      "outputs": []
    },
    {
      "cell_type": "code",
      "source": [
        "#converting class vectors into binary\n",
        "y_train=keras.utils.to_categorical(y_train,10)\n",
        "y_test=keras.utils.to_categorical(y_test,10)\n",
        "\n",
        "X_train=X_train.astype(\"float32\")\n",
        "X_test=X_test.astype(\"float32\")\n",
        "\n",
        "X_train/=255\n",
        "X_test/=255\n",
        "\n"
      ],
      "metadata": {
        "id": "5iGVJzBRz_RG"
      },
      "execution_count": 5,
      "outputs": []
    },
    {
      "cell_type": "code",
      "source": [
        "from keras.src.layers.serialization import activation\n",
        "batch_size=128\n",
        "num_classes=10\n",
        "epochs=10\n",
        "\n",
        "\n",
        "'''model=Sequential()\n",
        "model.add(Conv2D,kernal_size=(5,5),activation='relu',input_shape=input_shape)\n",
        "model.add(MaxPooling2D(pool_size=(2,2)))'''\n",
        "\n",
        "\n",
        "model = Sequential()\n",
        "model.add(Conv2D(filters=32, kernel_size=(5, 5), activation='relu', input_shape=input_shape))\n",
        "model.add(MaxPooling2D(pool_size=(2, 2)))\n",
        "\n",
        "\n",
        "model = Sequential()\n",
        "model.add(Conv2D(filters=32, kernel_size=(5, 5), activation='relu', input_shape=input_shape))\n",
        "model.add(MaxPooling2D(pool_size=(2, 2)))\n",
        "\n",
        "\n",
        "\n",
        "model.add(Flatten())\n",
        "model.add(Dense(128,activation='relu'))\n",
        "model.add(Dropout(0,3))\n",
        "\n",
        "model.add(Dense(64,activation='relu'))\n",
        "model.add(Dropout(0,5))\n",
        "\n",
        "model.add(Dense(num_classes,activation='softmax'))\n",
        "model.add(Dense(num_classes, activation='softmax'))\n",
        "model.compile(loss=keras.losses.categorical_crossentropy, optimizer=keras.optimizers.Adadelta(), metrics=['accuracy'])\n",
        "\n",
        "\n",
        "model.add(Dense(num_classes, activation='softmax'))\n",
        "\n",
        "\n",
        "hist=model.fit(X_train,y_train,batch_size=batch_size,epochs=epochs,verbose=1,validation_data=(X_test,y_test))\n",
        "\n",
        "\n",
        "score=model.evaluate(X_test,y_test,verbose=0)\n",
        "\n",
        "\n",
        "print(\"loss:\",score[0])\n",
        "print(\"Accuracy:\",score[1])\n",
        "\n",
        "\n",
        "model.save('mnist.h5')\n",
        "\n",
        "\n",
        "\n",
        "\n"
      ],
      "metadata": {
        "colab": {
          "base_uri": "https://localhost:8080/"
        },
        "id": "wnhdIwzg042t",
        "outputId": "43a8c054-c8d2-4618-f8cc-189286d7beef"
      },
      "execution_count": 11,
      "outputs": [
        {
          "output_type": "stream",
          "name": "stdout",
          "text": [
            "Epoch 1/10\n",
            "469/469 [==============================] - 39s 80ms/step - loss: 2.3074 - accuracy: 0.0975 - val_loss: 2.3072 - val_accuracy: 0.0974\n",
            "Epoch 2/10\n",
            "469/469 [==============================] - 33s 70ms/step - loss: 2.3073 - accuracy: 0.0975 - val_loss: 2.3071 - val_accuracy: 0.0974\n",
            "Epoch 3/10\n",
            "469/469 [==============================] - 34s 73ms/step - loss: 2.3073 - accuracy: 0.0975 - val_loss: 2.3071 - val_accuracy: 0.0974\n",
            "Epoch 4/10\n",
            "469/469 [==============================] - 34s 73ms/step - loss: 2.3072 - accuracy: 0.0975 - val_loss: 2.3070 - val_accuracy: 0.0974\n",
            "Epoch 5/10\n",
            "469/469 [==============================] - 33s 70ms/step - loss: 2.3072 - accuracy: 0.0975 - val_loss: 2.3070 - val_accuracy: 0.0974\n",
            "Epoch 6/10\n",
            "469/469 [==============================] - 34s 73ms/step - loss: 2.3071 - accuracy: 0.0975 - val_loss: 2.3069 - val_accuracy: 0.0974\n",
            "Epoch 7/10\n",
            "469/469 [==============================] - 33s 70ms/step - loss: 2.3071 - accuracy: 0.0975 - val_loss: 2.3069 - val_accuracy: 0.0974\n",
            "Epoch 8/10\n",
            "469/469 [==============================] - 34s 73ms/step - loss: 2.3070 - accuracy: 0.0975 - val_loss: 2.3068 - val_accuracy: 0.0974\n",
            "Epoch 9/10\n",
            "469/469 [==============================] - 34s 73ms/step - loss: 2.3070 - accuracy: 0.0975 - val_loss: 2.3068 - val_accuracy: 0.0974\n",
            "Epoch 10/10\n",
            "469/469 [==============================] - 33s 70ms/step - loss: 2.3069 - accuracy: 0.0975 - val_loss: 2.3067 - val_accuracy: 0.0974\n",
            "loss: 2.3067071437835693\n",
            "Accuracy: 0.09740000218153\n"
          ]
        },
        {
          "output_type": "stream",
          "name": "stderr",
          "text": [
            "/usr/local/lib/python3.10/dist-packages/keras/src/engine/training.py:3079: UserWarning: You are saving your model as an HDF5 file via `model.save()`. This file format is considered legacy. We recommend using instead the native Keras format, e.g. `model.save('my_model.keras')`.\n",
            "  saving_api.save_model(\n"
          ]
        }
      ]
    },
    {
      "cell_type": "code",
      "source": [],
      "metadata": {
        "id": "PpUxeF-w8kUx"
      },
      "execution_count": null,
      "outputs": []
    }
  ]
}